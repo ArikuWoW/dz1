{
  "cells": [
    {
      "cell_type": "markdown",
      "metadata": {},
      "source": [
        "# Домашнее задание 1: Выбор задачи и подготовка среды\n",
        "\n",
        "## 1. Описание задачи\n",
        "**Цель задачи**  \n",
        "Обучить агента удерживать шест в вертикальном положении, балансируя его на подвижной тележке (среда CartPole).\n",
        "\n",
        "**Почему RL подходит:**\n",
        "- Последовательное принятие решений на основе текущего состояния среды.\n",
        "- Агент учится максимизировать награду через взаимодействие с окружающей средой.\n",
        "- Четкие правила и награды позволяют эффективно применять методы RL.\n",
        "\n",
        "**Ограничения:**\n",
        "- Простая динамика, но требует точных действий.\n",
        "- Ограниченное количество шагов в эпизоде (по умолчанию 500).\n",
        "\n",
        "**Почему выбрана CartPole-v1:**\n",
        "- Классическая среда OpenAI Gym.\n",
        "- Поддерживает визуализацию.\n",
        "- Подходит для начального тестирования алгоритмов RL.\n"
      ]
    },
    {
      "cell_type": "markdown",
      "metadata": {},
      "source": [
        "## 2. Структура среды\n",
        "**Состояния:**\n",
        "- Положение тележки\n",
        "- Скорость тележки\n",
        "- Угол наклона шеста\n",
        "- Угловая скорость шеста\n",
        "\n",
        "**Действия:**\n",
        "- 0: переместить тележку влево\n",
        "- 1: переместить тележку вправо\n",
        "\n",
        "**Награды:**\n",
        "- +1 за каждый шаг, пока шест не упал\n",
        "- Эпизод завершается, если угол превышает границы или тележка выходит за пределы\n"
      ]
    },
    {
      "cell_type": "markdown",
      "metadata": {},
      "source": [
        "## 3. Установка среды\n",
        "```bash\n",
        "pip install gymnasium[classic_control]\n",
        "\n",
        "```\n"
      ]
    },
    {
      "cell_type": "code",
      "execution_count": null,
      "metadata": {},
      "outputs": [
        {
          "ename": "ModuleNotFoundError",
          "evalue": "No module named 'gym'",
          "output_type": "error",
          "traceback": [
            "\u001b[31m---------------------------------------------------------------------------\u001b[39m",
            "\u001b[31mModuleNotFoundError\u001b[39m                       Traceback (most recent call last)",
            "\u001b[36mCell\u001b[39m\u001b[36m \u001b[39m\u001b[32mIn[4]\u001b[39m\u001b[32m, line 2\u001b[39m\n\u001b[32m      1\u001b[39m \u001b[38;5;66;03m# Тестовый скрипт с использованием gymnasium\u001b[39;00m\n\u001b[32m----> \u001b[39m\u001b[32m2\u001b[39m \u001b[38;5;28;01mimport\u001b[39;00m\u001b[38;5;250m \u001b[39m\u001b[34;01mgym\u001b[39;00m\n\u001b[32m      4\u001b[39m \u001b[38;5;66;03m# Создание среды с визуализацией\u001b[39;00m\n\u001b[32m      5\u001b[39m env = gym.make(\u001b[33m'\u001b[39m\u001b[33mCartPole-v1\u001b[39m\u001b[33m'\u001b[39m, render_mode=\u001b[33m'\u001b[39m\u001b[33mhuman\u001b[39m\u001b[33m'\u001b[39m)\n",
            "\u001b[31mModuleNotFoundError\u001b[39m: No module named 'gym'"
          ]
        }
      ],
      "source": [
        "# Тестовый скрипт с использованием gymnasium\n",
        "import gymnasium as gym\n",
        "\n",
        "# Создание среды с визуализацией\n",
        "env = gym.make('CartPole-v1', render_mode='human')\n",
        "\n",
        "# Запуск нескольких эпизодов\n",
        "for episode in range(1000):\n",
        "    score = 0\n",
        "    state, _ = env.reset()\n",
        "    done = False\n",
        "\n",
        "    while not done:\n",
        "        env.render()\n",
        "        action = env.action_space.sample()\n",
        "        n_state, reward, terminated, truncated, info = env.step(action)\n",
        "        done = terminated or truncated\n",
        "        score += reward\n",
        "\n",
        "    print('Episode:', episode, 'Score:', score)\n",
        "env.close()"
      ]
    },
    {
      "cell_type": "markdown",
      "metadata": {},
      "source": [
        "## 4. Визуализация\n",
        "(https://drive.google.com/file/d/1Ih9TOkISO7wXTF68bGRoS_-wobkyAGuT/view?usp=drive_link)\n"
      ]
    },
    {
      "cell_type": "markdown",
      "metadata": {},
      "source": [
        "## 5. Заключение\n",
        "Среда CartPole-v1 успешно подготовлена и протестирована. Задача является хорошей отправной точкой для последующего изучения алгоритмов обучения с подкреплением."
      ]
    }
  ],
  "metadata": {
    "kernelspec": {
      "display_name": ".venv",
      "language": "python",
      "name": "python3"
    },
    "language_info": {
      "codemirror_mode": {
        "name": "ipython",
        "version": 3
      },
      "file_extension": ".py",
      "mimetype": "text/x-python",
      "name": "python",
      "nbconvert_exporter": "python",
      "pygments_lexer": "ipython3",
      "version": "3.12.7"
    }
  },
  "nbformat": 4,
  "nbformat_minor": 5
}
